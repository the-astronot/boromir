{
 "cells": [
  {
   "cell_type": "code",
   "execution_count": 1,
   "metadata": {},
   "outputs": [],
   "source": [
    "# Converting from Earth-Centered J2000 to MCMF based on DE421\n",
    "\n",
    "# Library imports\n",
    "import numpy as np\n",
    "import spiceypy as sp\n",
    "from os.path import join\n",
    "\n",
    "# Local imports\n",
    "from paths import BASE_DIR\n",
    "from file_io_util import quick_cd\n",
    "from Structures import Quaternion, quat_mult\n"
   ]
  },
  {
   "cell_type": "code",
   "execution_count": 2,
   "metadata": {},
   "outputs": [],
   "source": [
    "# Kernel Setup\n",
    "KERNEL_DIR=join(BASE_DIR,\"spicedata\")\n",
    "METAKRNL=join(KERNEL_DIR,\"boromir.tm\")\n",
    "with quick_cd(KERNEL_DIR):\n",
    "\tsp.furnsh(METAKRNL)"
   ]
  },
  {
   "cell_type": "code",
   "execution_count": 3,
   "metadata": {},
   "outputs": [],
   "source": [
    "# Read in some data to be converted\n",
    "def read_data(filename,column_dict,header=False):\n",
    "\t\"\"\"\n",
    "\t\tTakes in a csv file and a dictionary of which values are in which columns\n",
    "\t\"\"\"\n",
    "\tcolumn_list = [\n",
    "\t\tcolumn_dict[\"time\"],\n",
    "\t\tcolumn_dict[\"x\"],\n",
    "\t\tcolumn_dict[\"y\"],\n",
    "\t\tcolumn_dict[\"z\"],\n",
    "\t\tcolumn_dict[\"qs\"],\n",
    "\t\tcolumn_dict[\"qx\"],\n",
    "\t\tcolumn_dict[\"qy\"],\n",
    "\t\tcolumn_dict[\"qz\"]\n",
    "\t]\n",
    "\ttext_data = []\n",
    "\twith open(filename) as f:\n",
    "\t\ttext_data = f.read().strip(\"\\n\").split(\"\\n\")\n",
    "\tdata = [[\"\" for _ in column_list] for _ in text_data]\n",
    "\tfor i,line in enumerate(text_data):\n",
    "\t\tif header and i == 0:\n",
    "\t\t\tcontinue\n",
    "\t\tline_data = line.split(\",\")\n",
    "\t\tfor j,entry in enumerate(column_list):\n",
    "\t\t\tdata[i][j] = line_data[entry]\n",
    "\treturn data\n",
    "\t"
   ]
  },
  {
   "cell_type": "code",
   "execution_count": 27,
   "metadata": {},
   "outputs": [],
   "source": [
    "# Convert the data into MCMF\n",
    "def convertEarthJ2000toMCMF(data):\n",
    "\t\"\"\"\n",
    "\t\tConvert data from Earth-centered J2000 to MCMF Frame\n",
    "\t\t\n",
    "\t\tdata should be a 2-d array, where the inner array has the form:\n",
    "\t\t\t[time_utc,x,y,z,qs,qx,qy,qz]\n",
    "\t\"\"\"\n",
    "\n",
    "\tout_data = []\n",
    "\n",
    "\tfor i,state in enumerate(data):\n",
    "\t\tout_entry = [\"\" for i in range(19)]\n",
    "\t\tout_entry[0] = \"img{}\".format(i)\n",
    "\n",
    "\t\t# Add time over\n",
    "\t\tdate,time = state[0].split(\"T\")\n",
    "\t\tutc_time = \"{} {}\".format(date.replace(\":\",\"-\"),time)\n",
    "\t\tout_entry[8] = utc_time\n",
    "\t\t#print(utc_time)\n",
    "\n",
    "\t\t# Use time to determine relative orientation of J200\n",
    "\t\tetime = sp.str2et(utc_time)\n",
    "\n",
    "\t\t# Rotation\n",
    "\t\tq_J2000_SP = Quaternion()\n",
    "\t\tq_MOON_SP = Quaternion()\n",
    "\t\tq_J2000_SP.fromArray(state[4:8])\n",
    "\t\tR_J2000_SP = q_J2000_SP.toDCM()\n",
    "\t\tR_J200_MOON = sp.pxform(\"J2000\",\"MOON_ME\",etime)\n",
    "\t\tR_MOON_SP = R_J200_MOON.T@R_J2000_SP\n",
    "\t\tq_MOON_SP.fromDCM(R_MOON_SP)\n",
    "\t\tout_entry[4:8] = q_MOON_SP.toArray()\n",
    "\t\t#print(qJ2000toMCMF)\n",
    "\n",
    "\t\t# Position\n",
    "\t\tstateJ2000 = np.array([state[1],state[2],state[3]],dtype=float)\n",
    "\t\tP_ES_MOON_ME = R_J200_MOON@stateJ2000\n",
    "\t\t[P_ME_MOON_ME,_] = sp.spkpos(\"EARTH\",etime,\"MOON_ME\",\"NONE\",\"MOON\")\n",
    "\t\tP_MS_MOON_ME = np.array((P_ME_MOON_ME+P_ES_MOON_ME))*1000\n",
    "\t\tout_entry[1:4] = P_MS_MOON_ME\n",
    "\n",
    "\t\tout_data.append(out_entry)\n",
    "\n",
    "\treturn out_data"
   ]
  },
  {
   "cell_type": "code",
   "execution_count": null,
   "metadata": {},
   "outputs": [],
   "source": [
    "# Setup data to be read\n",
    "filefrom = join(BASE_DIR,\"scratch\",\"data\",\"surface_poses.csv\")\n",
    "columns = {\"x\":5,\"y\":6,\"z\":7,\"qs\":16,\"qx\":17,\"qy\":18,\"qz\":19,\"time\":2}\n",
    "fileto = join(BASE_DIR,\"configs\",\"trajectories\",\"match0.csv\")\n",
    "\n",
    "data = read_data(filefrom,columns,header=False)\n",
    "converted_states = convertEarthJ2000toMCMF(data)\n",
    "state_text = \"\"\n",
    "for state in converted_states:\n",
    "\tprint(state)\n",
    "\tstr_state = np.array(state,dtype=str)\n",
    "\tstate_text += \"{}\\n\".format(\",\".join(str_state))\n",
    "with open(fileto,\"w+\") as f:\n",
    "\tf.write(state_text)"
   ]
  }
 ],
 "metadata": {
  "kernelspec": {
   "display_name": ".venv",
   "language": "python",
   "name": "python3"
  },
  "language_info": {
   "codemirror_mode": {
    "name": "ipython",
    "version": 3
   },
   "file_extension": ".py",
   "mimetype": "text/x-python",
   "name": "python",
   "nbconvert_exporter": "python",
   "pygments_lexer": "ipython3",
   "version": "3.11.10"
  }
 },
 "nbformat": 4,
 "nbformat_minor": 2
}
