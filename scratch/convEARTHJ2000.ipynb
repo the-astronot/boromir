{
 "cells": [
  {
   "cell_type": "code",
   "execution_count": 1,
   "metadata": {},
   "outputs": [],
   "source": [
    "# Converting from Earth-Centered J2000 to MCMF based on DE421\n",
    "\n",
    "# Library imports\n",
    "import numpy as np\n",
    "import spiceypy as sp\n",
    "from os.path import join\n",
    "\n",
    "# Local imports\n",
    "from paths import BASE_DIR\n",
    "from file_io_util import quick_cd\n",
    "from Structures import Quaternion, quat_mult\n"
   ]
  },
  {
   "cell_type": "code",
   "execution_count": 2,
   "metadata": {},
   "outputs": [],
   "source": [
    "# Kernel Setup\n",
    "KERNEL_DIR=join(BASE_DIR,\"spicedata\")\n",
    "METAKRNL=join(KERNEL_DIR,\"boromir.tm\")\n",
    "with quick_cd(KERNEL_DIR):\n",
    "\tsp.furnsh(METAKRNL)"
   ]
  },
  {
   "cell_type": "code",
   "execution_count": 3,
   "metadata": {},
   "outputs": [],
   "source": [
    "# Read in some data to be converted\n",
    "def read_data(filename,column_dict,header=False):\n",
    "\t\"\"\"\n",
    "\t\tTakes in a csv file and a dictionary of which values are in which columns\n",
    "\t\"\"\"\n",
    "\tcolumn_list = [\n",
    "\t\tcolumn_dict[\"time\"],\n",
    "\t\tcolumn_dict[\"x\"],\n",
    "\t\tcolumn_dict[\"y\"],\n",
    "\t\tcolumn_dict[\"z\"],\n",
    "\t\tcolumn_dict[\"qs\"],\n",
    "\t\tcolumn_dict[\"qx\"],\n",
    "\t\tcolumn_dict[\"qy\"],\n",
    "\t\tcolumn_dict[\"qz\"]\n",
    "\t]\n",
    "\ttext_data = []\n",
    "\twith open(filename) as f:\n",
    "\t\ttext_data = f.read().strip(\"\\n\").split(\"\\n\")\n",
    "\tdata = [[\"\" for _ in column_list] for _ in text_data]\n",
    "\tfor i,line in enumerate(text_data):\n",
    "\t\tif header and i == 0:\n",
    "\t\t\tcontinue\n",
    "\t\tline_data = line.split(\",\")\n",
    "\t\tfor j,entry in enumerate(column_list):\n",
    "\t\t\tdata[i][j] = line_data[entry]\n",
    "\treturn data\n",
    "\t"
   ]
  },
  {
   "cell_type": "code",
   "execution_count": 27,
   "metadata": {},
   "outputs": [],
   "source": [
    "# Convert the data into MCMF\n",
    "def convertEarthJ2000toMCMF(data):\n",
    "\t\"\"\"\n",
    "\t\tConvert data from Earth-centered J2000 to MCMF Frame\n",
    "\t\t\n",
    "\t\tdata should be a 2-d array, where the inner array has the form:\n",
    "\t\t\t[time_utc,x,y,z,qs,qx,qy,qz]\n",
    "\t\"\"\"\n",
    "\n",
    "\tout_data = []\n",
    "\n",
    "\tfor i,state in enumerate(data):\n",
    "\t\tout_entry = [\"\" for i in range(19)]\n",
    "\t\tout_entry[0] = \"img{}\".format(i)\n",
    "\n",
    "\t\t# Add time over\n",
    "\t\tdate,time = state[0].split(\"T\")\n",
    "\t\tutc_time = \"{} {}\".format(date.replace(\":\",\"-\"),time)\n",
    "\t\tout_entry[8] = utc_time\n",
    "\t\t#print(utc_time)\n",
    "\n",
    "\t\t# Use time to determine relative orientation of J200\n",
    "\t\tetime = sp.str2et(utc_time)\n",
    "\n",
    "\t\t# Rotation\n",
    "\t\tq_J2000_SP = Quaternion()\n",
    "\t\tq_MOON_SP = Quaternion()\n",
    "\t\tq_J2000_SP.fromArray(state[4:8])\n",
    "\t\tR_J2000_SP = q_J2000_SP.toDCM()\n",
    "\t\tR_J200_MOON = sp.pxform(\"J2000\",\"MOON_ME\",etime)\n",
    "\t\tR_MOON_SP = R_J200_MOON.T@R_J2000_SP\n",
    "\t\tq_MOON_SP.fromDCM(R_MOON_SP)\n",
    "\t\tout_entry[4:8] = q_MOON_SP.toArray()\n",
    "\t\t#print(qJ2000toMCMF)\n",
    "\n",
    "\t\t# Position\n",
    "\t\tstateJ2000 = np.array([state[1],state[2],state[3]],dtype=float)\n",
    "\t\tP_ES_MOON_ME = R_J200_MOON@stateJ2000\n",
    "\t\t[P_ME_MOON_ME,_] = sp.spkpos(\"EARTH\",etime,\"MOON_ME\",\"NONE\",\"MOON\")\n",
    "\t\tP_MS_MOON_ME = np.array((P_ME_MOON_ME+P_ES_MOON_ME))*1000\n",
    "\t\tout_entry[1:4] = P_MS_MOON_ME\n",
    "\n",
    "\t\tout_data.append(out_entry)\n",
    "\n",
    "\treturn out_data"
   ]
  },
  {
   "cell_type": "code",
   "execution_count": 28,
   "metadata": {},
   "outputs": [
    {
     "name": "stdout",
     "output_type": "stream",
     "text": [
      "['img0', 3489405.417190632, -1403506.8191188548, 1062837.3995664655, 0.3736281372773916, -0.4912049263077125, 0.6929095214828659, 0.3728218481313122, '2022-12-05 16:04:06', '', '', '', '', '', '', '', '', '', '']\n",
      "['img1', 3471426.3380623306, -1411141.4492675248, 1061569.6866577845, 0.4065338004864721, -0.47679078529570285, 0.7022665292769702, 0.3379682499531736, '2022-12-05 16:04:18', '', '', '', '', '', '', '', '', '', '']\n",
      "['img2', 3454280.8398695197, -1417772.6112085439, 1059755.164487119, 0.43840372159354846, -0.46151919669495967, 0.7096320169566424, 0.3020341180810761, '2022-12-05 16:04:30', '', '', '', '', '', '', '', '', '', '']\n",
      "['img3', 3437134.5495919813, -1424402.7112760886, 1057940.644536426, 0.4691279796180624, -0.44544309412895555, 0.7149943549169755, 0.26510839494281496, '2022-12-05 16:04:42', '', '', '', '', '', '', '', '', '', '']\n",
      "['img4', 3419405.5317407474, -1431751.485810215, 1055747.536574599, 0.49888190165095236, -0.42863280651987007, 0.7181994490343807, 0.22711300444215235, '2022-12-05 16:04:54', '', '', '', '', '', '', '', '', '', '']\n",
      "['img5', 3402257.634457492, -1438379.4434129887, 1053933.0210837242, 0.5304672396428317, -0.410681232626889, 0.7177219928188465, 0.1866027166413106, '2022-12-05 16:05:06', '', '', '', '', '', '', '', '', '', '']\n",
      "['img6', 3384526.963722019, -1445726.0382287714, 1051739.9176159338, 0.5603790202671888, -0.39212942619470076, 0.71493184004968, 0.14519755796768524, '2022-12-05 16:05:18', '', '', '', '', '', '', '', '', '', '']\n",
      "['img7', 3367377.4596396834, -1452351.8531893133, 1049925.4065901455, 0.5885013948276686, -0.37305098274345305, 0.7098506479067452, 0.1030103403858409, '2022-12-05 16:05:30', '', '', '', '', '', '', '', '', '', '']\n",
      "['img8', 3349645.1362302178, -1459696.2681033984, 1047732.3076217358, 0.6147359409113012, -0.35350777033930353, 0.7025016216640076, 0.06019510628839253, '2022-12-05 16:05:42', '', '', '', '', '', '', '', '', '', '']\n",
      "['img9', 3331911.9750661193, -1467039.583710015, 1045539.2109128702, 0.6413951941443156, -0.34401270257397226, 0.6850732519228657, 0.030693727309615143, '2022-12-05 16:05:54', '', '', '', '', '', '', '', '', '', '']\n",
      "['img10', 3313987.150113273, -1473027.8838633532, 1043707.3596181449, 0.6553383173049221, -0.34442999168567207, 0.6718861335860878, 0.021649346274169624, '2022-12-05 16:06:06', '', '', '', '', '', '', '', '', '', '']\n",
      "['img11', 3296252.356853569, -1480368.9946015947, 1041514.2674071616, 0.6650926739871463, -0.34525642526718314, 0.6619798170761567, 0.015246560404613892, '2022-12-05 16:06:18', '', '', '', '', '', '', '', '', '', '']\n",
      "['img12', 3279098.8454524195, -1486989.4181834315, 1039699.7675659091, 0.666153774417835, -0.3476433323428538, 0.6596656492915773, 0.01498310552422489, '2022-12-05 16:06:30', '', '', '', '', '', '', '', '', '', '']\n",
      "['img13', 3260589.561262401, -1493693.9832939024, 1037489.3328546891, 0.6662148015131508, -0.3501476265849745, 0.6582720016758651, 0.015246299595376869, '2022-12-05 16:06:42', '', '', '', '', '', '', '', '', '', '']\n",
      "['img14', 3242852.298630809, -1501031.7894484906, 1035296.2474131605, 0.6663163026975706, -0.3526128535057031, 0.6568497961387201, 0.015333154095848895, '2022-12-05 16:06:54', '', '', '', '', '', '', '', '', '', '']\n",
      "['img15', 3225696.386976284, -1507648.9640699073, 1033481.7542980086, 0.6664544381455939, -0.3550519904017094, 0.6553956758890042, 0.015266761733277439, '2022-12-05 16:07:06', '', '', '', '', '', '', '', '', '', '']\n",
      "['img16', 3207184.6945263096, -1514350.1502637155, 1031271.3263357945, 0.666616082474319, -0.35747943573786045, 0.653914611880535, 0.015070898455705303, '2022-12-05 16:07:18', '', '', '', '', '', '', '', '', '', '']\n",
      "['img17', 3189444.963003334, -1521684.651420619, 1029078.2476757017, 0.6667846491456006, -0.3598944397445703, 0.6524226393522603, 0.014796065874101778, '2022-12-05 16:07:30', '', '', '', '', '', '', '', '', '', '']\n",
      "['img18', 3171513.914112991, -1527664.0879837796, 1027246.414238336, 0.6669561781064136, -0.3623106442071308, 0.6509156534242981, 0.01446601904875259, '2022-12-05 16:07:42', '', '', '', '', '', '', '', '', '', '']\n",
      "['img19', 3152999.834157119, -1534361.8701732266, 1025035.9930276227, 0.6669652108638354, -0.3651830894520069, 0.6493148786278543, 0.01374434677029807, '2022-12-05 16:07:54', '', '', '', '', '', '', '', '', '', '']\n"
     ]
    }
   ],
   "source": [
    "# Setup data to be read\n",
    "filefrom = join(BASE_DIR,\"scratch\",\"data\",\"surface_poses.csv\")\n",
    "columns = {\"x\":5,\"y\":6,\"z\":7,\"qs\":16,\"qx\":17,\"qy\":18,\"qz\":19,\"time\":2}\n",
    "fileto = join(BASE_DIR,\"configs\",\"trajectories\",\"Ar1Match0.csv\")\n",
    "\n",
    "data = read_data(filefrom,columns,header=False)\n",
    "converted_states = convertEarthJ2000toMCMF(data)\n",
    "state_text = \"\"\n",
    "for state in converted_states:\n",
    "\tprint(state)\n",
    "\tstr_state = np.array(state,dtype=str)\n",
    "\tstate_text += \"{}\\n\".format(\",\".join(str_state))\n",
    "with open(fileto,\"w+\") as f:\n",
    "\tf.write(state_text)"
   ]
  }
 ],
 "metadata": {
  "kernelspec": {
   "display_name": ".venv",
   "language": "python",
   "name": "python3"
  },
  "language_info": {
   "codemirror_mode": {
    "name": "ipython",
    "version": 3
   },
   "file_extension": ".py",
   "mimetype": "text/x-python",
   "name": "python",
   "nbconvert_exporter": "python",
   "pygments_lexer": "ipython3",
   "version": "3.11.10"
  }
 },
 "nbformat": 4,
 "nbformat_minor": 2
}
