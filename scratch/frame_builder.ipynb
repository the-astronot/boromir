{
 "cells": [
  {
   "cell_type": "code",
   "execution_count": 1,
   "metadata": {},
   "outputs": [],
   "source": [
    "import numpy as np\n",
    "from numpy.linalg import (svd,det,norm)"
   ]
  },
  {
   "cell_type": "code",
   "execution_count": 2,
   "metadata": {},
   "outputs": [],
   "source": [
    "def wahbas_problem(ref_los, body_los):\n",
    "\t\"\"\"\n",
    "\t\tReturns R rotation matrix from body to reference frame\n",
    "\t\"\"\"\n",
    "\tA = ref_los.T\n",
    "\tE = body_los.T\n",
    "\tB = A@E.T\n",
    "\tU,S,V = svd(B)\n",
    "\tM = np.eye(3)\n",
    "\tM[2,2] = det(U)*det(V.T)\n",
    "\treturn U@M@V"
   ]
  },
  {
   "cell_type": "code",
   "execution_count": 13,
   "metadata": {},
   "outputs": [
    {
     "name": "stdout",
     "output_type": "stream",
     "text": [
      "[[ 0.07233999 -0.12009505  0.99012328]\n",
      " [-0.18037696  0.97477941  0.13141258]\n",
      " [-0.98093378 -0.18810181  0.04885315]]\n"
     ]
    }
   ],
   "source": [
    "# Camera position\n",
    "cam_pos = np.array([-731311.5,1658105,-358828.5])\n",
    "\n",
    "# Target Position\n",
    "target_pos = np.array([3.74150016e+08,5.14136479e+07,1.81379928e+07])\n",
    "\n",
    "# Align Z axis with target\n",
    "z_axis = target_pos-cam_pos\n",
    "z_axis = z_axis/np.linalg.norm(z_axis)\n",
    "#print(z_axis)\n",
    "\n",
    "# Use y aligned with Moon center to find x axis\n",
    "y_axis = cam_pos/np.linalg.norm(cam_pos)\n",
    "\n",
    "# Calculate x axis\n",
    "x_axis = np.cross(y_axis,z_axis)\n",
    "\n",
    "# Recalculate y axis\n",
    "y_axis = np.cross(z_axis,x_axis)\n",
    "\n",
    "#print(\"X = {}\".format(x_axis))\n",
    "#print(\"Y = {}\".format(y_axis))\n",
    "#print(\"Z = {}\".format(z_axis))\n",
    "\n",
    "local = np.eye(3)\n",
    "globl = np.array([x_axis,y_axis,z_axis])\n",
    "\n",
    "R = wahbas_problem(local,globl)\n",
    "print(R.T)"
   ]
  }
 ],
 "metadata": {
  "kernelspec": {
   "display_name": ".venv",
   "language": "python",
   "name": "python3"
  },
  "language_info": {
   "codemirror_mode": {
    "name": "ipython",
    "version": 3
   },
   "file_extension": ".py",
   "mimetype": "text/x-python",
   "name": "python",
   "nbconvert_exporter": "python",
   "pygments_lexer": "ipython3",
   "version": "3.10.12"
  }
 },
 "nbformat": 4,
 "nbformat_minor": 2
}
