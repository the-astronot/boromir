{
 "cells": [
  {
   "cell_type": "code",
   "execution_count": 1,
   "metadata": {},
   "outputs": [],
   "source": [
    "import numpy as np\n",
    "from numpy.linalg import (svd,det,norm)\n",
    "import sys\n",
    "from os.path import join,dirname,abspath\n",
    "from Structures import Quaternion"
   ]
  },
  {
   "cell_type": "code",
   "execution_count": 2,
   "metadata": {},
   "outputs": [],
   "source": [
    "def wahbas_problem(ref_los, body_los):\n",
    "\t\"\"\"\n",
    "\t\tReturns R rotation matrix from body to reference frame\n",
    "\t\"\"\"\n",
    "\tA = ref_los.T\n",
    "\tE = body_los.T\n",
    "\tB = A@E.T\n",
    "\tU,S,V = svd(B)\n",
    "\tM = np.eye(3)\n",
    "\tM[2,2] = det(U)*det(V.T)\n",
    "\treturn U@M@V"
   ]
  },
  {
   "cell_type": "code",
   "execution_count": 3,
   "metadata": {},
   "outputs": [
    {
     "name": "stdout",
     "output_type": "stream",
     "text": [
      "DCM:\n",
      "[[ 3.92820504e-01  2.52683190e-01 -8.84219010e-01]\n",
      " [ 9.19615165e-01 -1.07935517e-01  3.77700772e-01]\n",
      " [ 5.31618360e-17 -9.61509818e-01 -2.74770577e-01]]\n",
      "\n",
      "Quaternion:\n",
      "[0.50252, 0.66624, 0.43989, -0.33179]\n",
      "\n",
      "Position:\n",
      "[3384526.963722019,-1445726.0382287714,1051739.9176159338]\n"
     ]
    }
   ],
   "source": [
    "# Camera position\n",
    "cam_pos = np.array([3384526.963722019,-1445726.0382287714,1051739.9176159338]) # meters\n",
    "\n",
    "# Target Position\n",
    "target_pos = np.array([0,0,0]) # meters\n",
    "\n",
    "# Align Z axis with target\n",
    "z_axis = target_pos-cam_pos\n",
    "z_axis = z_axis/np.linalg.norm(z_axis)\n",
    "#print(z_axis)\n",
    "\n",
    "# Use y aligned with Moon center to find x axis\n",
    "#y_axis = cam_pos/np.linalg.norm(cam_pos)\n",
    "\n",
    "# Use y aligned with global Z to find x axis\n",
    "y_axis = np.array([0,0,-1])\n",
    "\n",
    "# Calculate x axis\n",
    "x_axis = np.cross(y_axis,z_axis)\n",
    "#x_axis = np.array([0,1,0])\n",
    "\n",
    "# Recalculate y axis\n",
    "y_axis = np.cross(z_axis,x_axis)\n",
    "\n",
    "#print(\"X = {}\".format(x_axis))\n",
    "#print(\"Y = {}\".format(y_axis))\n",
    "#print(\"Z = {}\".format(z_axis))\n",
    "\n",
    "local = np.eye(3)\n",
    "globl = np.array([x_axis,y_axis,z_axis])\n",
    "\n",
    "R = wahbas_problem(local,globl)\n",
    "print(\"DCM:\\n{}\".format(R.T))\n",
    "print()\n",
    "quat = Quaternion()\n",
    "quat.fromDCM(R.T)\n",
    "print(\"Quaternion:\\n{}\".format(quat))\n",
    "print()\n",
    "print(\"Position:\\n[{},{},{}]\".format(cam_pos[0],cam_pos[1],cam_pos[2]))"
   ]
  },
  {
   "cell_type": "code",
   "execution_count": 4,
   "metadata": {},
   "outputs": [
    {
     "name": "stdout",
     "output_type": "stream",
     "text": [
      "Pointing Vector is: [-0.88421901  0.37770077 -0.27477058]\n"
     ]
    }
   ],
   "source": [
    "# Get pointing vector from DCM\n",
    "boresight = np.array([0,0,1])\n",
    "pvec = quat.toDCM()@boresight\n",
    "print(\"Pointing Vector is: {}\".format(pvec))"
   ]
  },
  {
   "cell_type": "code",
   "execution_count": 6,
   "metadata": {},
   "outputs": [
    {
     "name": "stdout",
     "output_type": "stream",
     "text": [
      "Alternate Pointing Vector is: [-0.91513808 -0.23186949 -0.32978605]\n"
     ]
    }
   ],
   "source": [
    "# Alternative Quaternion\n",
    "alt_q_arr = np.array([0.5603790202671888,-0.39212942619470076,0.71493184004968,0.14519755796768524])\n",
    "alt_quat = Quaternion()\n",
    "alt_quat.fromArray(alt_q_arr)\n",
    "alt_pvec = alt_quat.toDCM()@boresight\n",
    "print(\"Alternate Pointing Vector is: {}\".format(alt_pvec))"
   ]
  }
 ],
 "metadata": {
  "kernelspec": {
   "display_name": ".venv",
   "language": "python",
   "name": "python3"
  },
  "language_info": {
   "codemirror_mode": {
    "name": "ipython",
    "version": 3
   },
   "file_extension": ".py",
   "mimetype": "text/x-python",
   "name": "python",
   "nbconvert_exporter": "python",
   "pygments_lexer": "ipython3",
   "version": "3.11.10"
  }
 },
 "nbformat": 4,
 "nbformat_minor": 2
}
