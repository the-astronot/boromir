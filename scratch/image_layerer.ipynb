{
 "cells": [
  {
   "cell_type": "code",
   "execution_count": 2,
   "metadata": {},
   "outputs": [],
   "source": [
    "# Laying 2 images over one another\n",
    "import cv2\n",
    "import numpy as np\n",
    "from matplotlib import pyplot as plt"
   ]
  },
  {
   "cell_type": "code",
   "execution_count": 8,
   "metadata": {},
   "outputs": [
    {
     "name": "stdout",
     "output_type": "stream",
     "text": [
      "(1024, 1024, 3) (1024, 1024, 3)\n"
     ]
    },
    {
     "data": {
      "text/plain": [
       "True"
      ]
     },
     "execution_count": 8,
     "metadata": {},
     "output_type": "execute_result"
    }
   ],
   "source": [
    "base_file = \"../outimages/3237400000km_lat0_lon60_sa180.png\"\n",
    "info_file = \"test_redux.png\"\n",
    "outfile = \"outfile_redux_18.png\"\n",
    "\n",
    "b_img = cv2.imread(base_file)\n",
    "i_img = cv2.imread(info_file)\n",
    "\n",
    "print(b_img.shape,i_img.shape)\n",
    "\n",
    "b_img[i_img>0] = 255\n",
    "\n",
    "b_img = np.where(b_img > 255, 255, b_img)\n",
    "b_img = np.where(b_img < 0, 0, b_img)\n",
    "\n",
    "cv2.imwrite(outfile,b_img)"
   ]
  }
 ],
 "metadata": {
  "kernelspec": {
   "display_name": ".venv",
   "language": "python",
   "name": "python3"
  },
  "language_info": {
   "codemirror_mode": {
    "name": "ipython",
    "version": 3
   },
   "file_extension": ".py",
   "mimetype": "text/x-python",
   "name": "python",
   "nbconvert_exporter": "python",
   "pygments_lexer": "ipython3",
   "version": "3.10.12"
  }
 },
 "nbformat": 4,
 "nbformat_minor": 2
}
