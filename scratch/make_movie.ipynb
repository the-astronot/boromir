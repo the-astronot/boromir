{
 "cells": [
  {
   "cell_type": "code",
   "execution_count": 5,
   "metadata": {},
   "outputs": [],
   "source": [
    "from PIL import Image\n",
    "import os\n",
    "from os.path import join\n",
    "\n",
    "from paths import BASE_DIR"
   ]
  },
  {
   "cell_type": "code",
   "execution_count": 6,
   "metadata": {},
   "outputs": [],
   "source": [
    "# Enter a directory to grab images from\n",
    "img_dir = join(BASE_DIR,\"outimages\",\"incl90_startTime20000101_000000_offn0_roll0\")"
   ]
  },
  {
   "cell_type": "code",
   "execution_count": 21,
   "metadata": {},
   "outputs": [],
   "source": [
    "def make_gif(img_dir,img_ext=\"png\",duration=100):\n",
    "\t# Get all the images\n",
    "\timg_paths = []\n",
    "\tobj = os.scandir(img_dir)\n",
    "\tfor item in obj:\n",
    "\t\tif item.is_file() and item.name[-len(img_ext):].lower() == img_ext.lower():\n",
    "\t\t\timg_paths.append(join(img_dir,item.name))\n",
    "\n",
    "\timg_paths = sorted(img_paths)\n",
    "\n",
    "\t# Define output path\n",
    "\toutput_path = \"a.gif\"\n",
    "\t\n",
    "\timages = [Image.open(image_path) for image_path in img_paths]\n",
    "\timages[0].save(\n",
    "\t\toutput_path,\n",
    "\t\tsave_all=True,\n",
    "\t\tappend_images=images[1:],\n",
    "\t\tduration=duration,\n",
    "\t\tloop=0\n",
    "\t)"
   ]
  },
  {
   "cell_type": "code",
   "execution_count": 23,
   "metadata": {},
   "outputs": [],
   "source": [
    "make_gif(img_dir)"
   ]
  }
 ],
 "metadata": {
  "kernelspec": {
   "display_name": ".venv",
   "language": "python",
   "name": "python3"
  },
  "language_info": {
   "codemirror_mode": {
    "name": "ipython",
    "version": 3
   },
   "file_extension": ".py",
   "mimetype": "text/x-python",
   "name": "python",
   "nbconvert_exporter": "python",
   "pygments_lexer": "ipython3",
   "version": "3.11.10"
  }
 },
 "nbformat": 4,
 "nbformat_minor": 2
}
