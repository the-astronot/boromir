{
 "cells": [
  {
   "cell_type": "code",
   "execution_count": 1,
   "metadata": {},
   "outputs": [],
   "source": [
    "# Library imports\n",
    "from PIL import Image\n",
    "import os\n",
    "from os.path import join\n",
    "import cv2\n",
    "\n",
    "# Local imports\n",
    "from paths import BASE_DIR"
   ]
  },
  {
   "cell_type": "code",
   "execution_count": 56,
   "metadata": {},
   "outputs": [],
   "source": [
    "# Enter a directory to grab images from\n",
    "img_dir = join(BASE_DIR,\"outimages\",\"Varying_Sweep_Vid_Images\",\"batch_varyingLighting_vid\")"
   ]
  },
  {
   "cell_type": "code",
   "execution_count": 46,
   "metadata": {},
   "outputs": [],
   "source": [
    "def make_gif(img_dir,img_ext=\"png\",fps=10,gif_name=\"moon\"):\n",
    "\t# Get all the images\n",
    "\timg_paths = []\n",
    "\tobj = os.scandir(img_dir)\n",
    "\tfor item in obj:\n",
    "\t\tif item.is_file() and item.name[-len(img_ext):].lower() == img_ext.lower():\n",
    "\t\t\timg_paths.append(join(img_dir,item.name))\n",
    "\n",
    "\timg_paths = sorted(img_paths)\n",
    "\n",
    "\t# Define output path\n",
    "\toutput_path = \"{}.gif\".format(gif_name)\n",
    "\tduration = 1000/fps\n",
    "\t\n",
    "\timages = [Image.open(image_path) for image_path in img_paths]\n",
    "\timages[0].save(\n",
    "\t\toutput_path,\n",
    "\t\tsave_all=True,\n",
    "\t\tappend_images=images[1:],\n",
    "\t\tduration=duration,\n",
    "\t\tloop=0\n",
    "\t)"
   ]
  },
  {
   "cell_type": "code",
   "execution_count": 8,
   "metadata": {},
   "outputs": [],
   "source": [
    "def make_movie(img_dir,img_ext=\".png\",fps=5,video_name=\"moon\"):\n",
    "\t\"\"\"\n",
    "\t\tConverts images into a .mp4 file\n",
    "\t\"\"\"\n",
    "\t# Get all the images\n",
    "\timg_paths = []\n",
    "\tobj = os.scandir(img_dir)\n",
    "\tfor item in obj:\n",
    "\t\tif item.is_file() and item.name[-len(img_ext):].lower() == img_ext.lower():\n",
    "\t\t\timg_paths.append(join(img_dir,item.name))\n",
    "\n",
    "\timg_paths = sorted(img_paths)\n",
    "\n",
    "\t# Do the video bit\n",
    "\tstart_frame = cv2.imread(img_paths[0])\n",
    "\theight,width,layers = start_frame.shape\n",
    "\n",
    "\tvideo = cv2.VideoWriter(\"{}.mp4\".format(video_name),cv2.VideoWriter_fourcc(*'mp4v'),fps,(width,height))\n",
    "\n",
    "\tfor img_path in img_paths:\n",
    "\t\tvideo.write(cv2.imread(img_path))\n",
    "\t\n",
    "\tvideo.release()\n",
    "\treturn"
   ]
  },
  {
   "cell_type": "code",
   "execution_count": 57,
   "metadata": {},
   "outputs": [],
   "source": [
    "make_gif(img_dir,fps=5,gif_name=\"varyingLighting\")\n",
    "#make_movie(img_dir,fps=5,video_name=\"varyingPos\")"
   ]
  }
 ],
 "metadata": {
  "kernelspec": {
   "display_name": ".venv",
   "language": "python",
   "name": "python3"
  },
  "language_info": {
   "codemirror_mode": {
    "name": "ipython",
    "version": 3
   },
   "file_extension": ".py",
   "mimetype": "text/x-python",
   "name": "python",
   "nbconvert_exporter": "python",
   "pygments_lexer": "ipython3",
   "version": "3.10.16"
  }
 },
 "nbformat": 4,
 "nbformat_minor": 2
}
