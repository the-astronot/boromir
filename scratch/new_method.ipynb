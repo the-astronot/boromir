{
 "cells": [
  {
   "cell_type": "code",
   "execution_count": 2,
   "metadata": {},
   "outputs": [],
   "source": [
    "import os\n",
    "import sys\n",
    "sys.path.append(os.path.join(os.path.dirname(os.getcwd()),\"src\"))\n",
    "os.environ[\"OPENCV_IO_MAX_IMAGE_PIXELS\"] = pow(2,40).__str__()\n",
    "import cv2\n",
    "import numpy as np\n",
    "from numpy import sin,cos,deg2rad,arcsin,arccos,rad2deg,pi,arctan2\n",
    "from numpy import array,zeros,ones,dot,cross,sqrt,sum\n",
    "from numpy.linalg import norm\n",
    "import struct\n",
    "from Point import *\n",
    "from Structures import Quaternion,State\n",
    "import mathutil as mu\n",
    "import matplotlib.pyplot as plt"
   ]
  },
  {
   "cell_type": "code",
   "execution_count": 3,
   "metadata": {},
   "outputs": [],
   "source": [
    "RADIUS = 1737400 # m\n",
    "U_PIXELS = 92160\n",
    "V_PIXELS = 46080\n",
    "f = None # Binary file location"
   ]
  },
  {
   "cell_type": "code",
   "execution_count": 4,
   "metadata": {},
   "outputs": [],
   "source": [
    "def open_dem(filename):\n",
    "\t\"\"\"\n",
    "\t\tReads in the TIF DEM file, converts to bin for easy parsing,\n",
    "\t\twithout having to keep the whole thing in memory. Defines \n",
    "\t\twidth and height of the sphere in pixels.\n",
    "\t\"\"\"\n",
    "\tglobal f\n",
    "\tbin_name = filename.replace(\".tif\",\".bin\")\n",
    "\tif not os.path.exists(bin_name):\n",
    "\t\timg = cv2.imread(filename,2)\n",
    "\t\theight, width = img.shape\n",
    "\t\tf = open(bin_name,\"wb+\")\n",
    "\t\tfor j in range(height):\n",
    "\t\t\tfor i in range(width):\n",
    "\t\t\t\tf.write(struct.pack(\"h\",img[j][i]))\n",
    "\t\tf.close()\n",
    "\t\tdel img\n",
    "\tf = open(bin_name,\"rb\")\n",
    "\treturn\n",
    "\n",
    "\n",
    "def get_pixel(u,v):\n",
    "\t\"\"\"\n",
    "\t\tGets the current pixel value from the binary file\n",
    "\t\"\"\"\n",
    "\tglobal f\n",
    "\t#print(\"Read Location: {}\".format(2*(U_PIXELS*v+u)))\n",
    "\tf.seek(2*(U_PIXELS*v+u))\n",
    "\treturn struct.unpack(\"h\",f.read(2))[0]\n",
    "\n",
    "\n",
    "def get_height(u,v):\n",
    "\t\"\"\"\n",
    "\t\tGets the Moon height at the given pixel coords.\n",
    "\t\"\"\"\n",
    "\tglobal scale, nom_rad\n",
    "\t#print(\"Pixel value @ ({},{}) is : {}\".format(u,v,get_pixel(u,v)))\n",
    "\treturn 1*(nom_rad+0.5*get_pixel(u,v))\n",
    "\n",
    "\n",
    "def getXYZ(ra,decl,u,v):\n",
    "\t\"\"\"\n",
    "\t\tGets the XYZ coords of the Moon Surface at the given\n",
    "\t\tRA/DECL and corresponding pixel coords.\n",
    "\t\"\"\"\n",
    "\tra = deg2rad(ra)\n",
    "\tdecl = deg2rad(decl)\n",
    "\tradius = get_height(u,v)\n",
    "\tx = radius*cos(decl)*cos(ra)\n",
    "\ty = radius*cos(decl)*sin(ra)\n",
    "\tz = radius*sin(decl)\n",
    "\treturn x,y,z\n",
    "\n",
    "\n",
    "def getXYZ_redux(u,v):\n",
    "\t\"\"\"\n",
    "\t\tGets XYZ from u,v\n",
    "\t\"\"\"\n",
    "\tra = 2*pi*((u+.5)/U_PIXELS) - pi\n",
    "\tdecl = -pi*((v+.5)/V_PIXELS) + pi/2\n",
    "\tif 0 <= u < U_PIXELS and 0 <= v < V_PIXELS:\n",
    "\t\tradius = get_height(u,v)\n",
    "\t\treturn array([radius*cos(decl)*cos(ra),\n",
    "\t\t\t\t\t\t\t\t\tradius*cos(decl)*sin(ra),\n",
    "\t\t\t\t\t\t\t\t\tradius*sin(decl)])\n",
    "\telse:\n",
    "\t\treturn zeros(shape=(3,))\n",
    "\n",
    "\n",
    "def writebinary(f,data,format):\n",
    "\t\"\"\"\n",
    "\t\tWrite data to binary file. Assumes open file f.\n",
    "\t\"\"\"\n",
    "\tf.write(struct.pack(format,data))\n",
    "\treturn\n",
    "\n",
    "\n",
    "def prep_write_files(verts_file,faces_file,colors_file):\n",
    "\t\"\"\"\n",
    "\t\tOpen binary files for writing\n",
    "\t\"\"\"\n",
    "\tglobal verts_f,colors_f,faces_f\n",
    "\tif os.path.exists(verts_file):\n",
    "\t\tos.remove(verts_file)\n",
    "\tif os.path.exists(faces_file):\n",
    "\t\tos.remove(faces_file)\n",
    "\tif os.path.exists(colors_file):\n",
    "\t\tos.remove(colors_file)\n",
    "\tverts_f = open(verts_file,\"wb+\")\n",
    "\tfaces_f = open(faces_file,\"wb+\")\n",
    "\tcolors_f = open(colors_file,\"wb+\")\n",
    "\treturn\n",
    "\n",
    "\n",
    "def add_vertex(xyz):\n",
    "\tglobal verts\n",
    "\tfor i in range(3):\n",
    "\t\t\twritebinary(verts_f,xyz[i],\"f\")\n",
    "\treturn\n",
    "\n",
    "\n",
    "def add_face(ids):\n",
    "\tglobal faces\n",
    "\tfor i in range(3):\n",
    "\t\twritebinary(faces_f,ids[i],\"Q\")\n",
    "\treturn\n",
    "\n",
    "\n",
    "def add_color(loc):\n",
    "\tglobal colors\n",
    "\tfor i in range(2):\n",
    "\t\twritebinary(colors_f,loc[i],\"f\")\n",
    "\treturn\n",
    "\n",
    "\n",
    "def get_pos_los(ra,decl,alt):\n",
    "\tra = deg2rad(ra)\n",
    "\tdecl = deg2rad(decl)\n",
    "\tpos = array([alt*cos(ra)*cos(decl),\n",
    "\t\t\t\t\t\t\t alt*sin(ra)*cos(decl),\n",
    "\t\t\t\t\t\t\t alt*sin(decl)])\n",
    "\tlos = -pos/np.linalg.norm(pos)\n",
    "\treturn pos, los\n",
    "\n",
    "\n",
    "def get_intersection(pos,los,r):\n",
    "\tnabla = dot(los,pos)**2-(np.linalg.norm(pos)**2-r**2)\n",
    "\tif nabla < 0:\n",
    "\t\t# No solutions\n",
    "\t\treturn None\n",
    "\td = -dot(los,pos)+sqrt(nabla)\n",
    "\treturn pos + los*d\n",
    "\n",
    "\n",
    "def uv2los(u,v,fov,pixels):\n",
    "\tangles_per_pixel = fov/pixels\n",
    "\tlos = array([-(u-(pixels[0]/2)+.5)*angles_per_pixel[0],\n",
    "\t\t\t\t\t\t\t -(v-(pixels[1]/2)+.5)*angles_per_pixel[1],\n",
    "\t\t\t\t\t\t\t 1])\n",
    "\tlos = los/np.linalg.norm(los)\n",
    "\treturn los\n",
    "\n",
    "\n",
    "def rot_about(a,b,theta):\n",
    "\ta_par_b = (dot(a,b)/dot(b,b))*b\n",
    "\ta_perp_b = a - a_par_b\n",
    "\tw = cross(b,a_perp_b)\n",
    "\tx1 = cos(theta)/np.linalg.norm(a_perp_b)\n",
    "\tx2 = sin(theta)/np.linalg.norm(w)\n",
    "\ta_perp_btheta = np.linalg.norm(a_perp_b)*(x1*a_perp_b+x2*w)\n",
    "\treturn array(a_perp_btheta + a_par_b)\n",
    "\n",
    "\n",
    "def ijk2moonuv(ijk):\n",
    "\tr = np.linalg.norm(ijk)\n",
    "\tdecl = arcsin(max(-1,min(ijk[2]/r,1)))\n",
    "\tif abs(cos(decl)) < 1e-10:\n",
    "\t\tra = 0\n",
    "\telse:\n",
    "\t\tra = arctan2(ijk[1]/(r*cos(decl)),ijk[0]/(r*cos(decl)))\n",
    "\tu = ((U_PIXELS-1)/2)+(U_PIXELS/360.*rad2deg(ra))\n",
    "\tv = ((V_PIXELS-1)/2)-(V_PIXELS/180.*rad2deg(decl))\n",
    "\treturn u,v\n",
    "\n",
    "\n",
    "def find_point(ijk):\n",
    "\tu,v = ijk2moonuv(ijk)\n",
    "\tu = int(round(u,0))\n",
    "\tv = int(round(v,0))\n",
    "\t#print(\"UV = {},{}\".format(u,v))\n",
    "\treturn getXYZ_redux(u,v)\n",
    "\n",
    "\n",
    "def uv2vertid(u,v,u_size):\n",
    "\treturn v*u_size+u"
   ]
  },
  {
   "cell_type": "code",
   "execution_count": 5,
   "metadata": {},
   "outputs": [
    {
     "name": "stdout",
     "output_type": "stream",
     "text": [
      "Loading DEM\n",
      "Finished Loading DEM\n"
     ]
    }
   ],
   "source": [
    "FOV = array([deg2rad(20),deg2rad(16)])\n",
    "PIXELS = array([2592,2048])\n",
    "N_SUBPIXELS = 1\n",
    "OFFSET_PIX = array([20,20])\n",
    "\n",
    "dem_file = \"../images/big_dem.tif\"\n",
    "verts_file = \"verts_redux.bin\"\n",
    "colors_file = \"colors_redux.bin\"\n",
    "faces_file = \"faces_redux.bin\"\n",
    "dem_file_c = \"../images/big_dem.bin\"\n",
    "\n",
    "print(\"Loading DEM\")\n",
    "open_dem(dem_file)\n",
    "print(\"Finished Loading DEM\")\n"
   ]
  },
  {
   "cell_type": "code",
   "execution_count": 6,
   "metadata": {},
   "outputs": [
    {
     "name": "stdout",
     "output_type": "stream",
     "text": [
      "FOV Bounds: 0.9848\n"
     ]
    }
   ],
   "source": [
    "### The Grassy Knoll Method\n",
    "\n",
    "# Let's Build a Moon\n",
    "ra_sections = 360\n",
    "decl_sections = 180\n",
    "ra = np.linspace(0,2*np.pi,ra_sections,endpoint=False)\n",
    "ras = np.tile(ra,decl_sections).reshape(decl_sections,ra_sections)\n",
    "#print(ras)\n",
    "decl = np.linspace(-np.pi/2,np.pi/2,decl_sections)\n",
    "decls = np.repeat(decl,ra_sections).reshape(decl_sections,ra_sections)\n",
    "latlons = array([ras,decls]).transpose((2,1,0))\n",
    "#print(decls)\n",
    "xyzs = array([RADIUS*cos(decls)*cos(ras),RADIUS*cos(decls)*sin(ras),RADIUS*sin(decls)]).transpose((2,1,0))\n",
    "max_fov = deg2rad(20)\n",
    "fov_bounds = cos(max_fov/2)\n",
    "print(\"FOV Bounds: {:.4f}\".format(fov_bounds))"
   ]
  },
  {
   "cell_type": "code",
   "execution_count": 19,
   "metadata": {},
   "outputs": [
    {
     "name": "stdout",
     "output_type": "stream",
     "text": [
      "0.5 [ 0.5 -0.5  0.5]\n",
      "0.5 [ 0.5  0.5 -0.5]\n",
      "[-1.  0.  0.]\n",
      "NADIR Angle = 45.00000000000001\n"
     ]
    },
    {
     "data": {
      "text/plain": [
       "<matplotlib.image.AxesImage at 0x7684adae8af0>"
      ]
     },
     "execution_count": 19,
     "metadata": {},
     "output_type": "execute_result"
    },
    {
     "data": {
      "image/png": "[encoded data removed]",
      "text/plain": [
       "<Figure size 640x480 with 1 Axes>"
      ]
     },
     "metadata": {},
     "output_type": "display_data"
    }
   ],
   "source": [
    "position = array([RADIUS,RADIUS,0])\n",
    "quatWorldtoCam = Quaternion()\n",
    "quatWorldtoCam.fromDCM(array([[0,0,1],\n",
    "\t\t\t\t\t\t\t\t\t\t\t\t\t\t\t[-1,0,0],\n",
    "\t\t\t\t\t\t\t\t\t\t\t\t\t\t\t[0,-1,0]]))\n",
    "sc_quat = Quaternion(0,[0,0,1])\n",
    "#sc_quat = Quaternion(0.707,[0,0,-0.707])\n",
    "#sc_quat = Quaternion(1,[0,0,0])\n",
    "quat = Quaternion()\n",
    "dcm = sc_quat.toDCM().T@quatWorldtoCam.toDCM()\n",
    "#print(sc_quat.toDCM())\n",
    "#print(quatWorldtoCam.toDCM())\n",
    "#print(dcm)\n",
    "quat.fromDCM(dcm)\n",
    "state = State(position,quat)\n",
    "DCM = state.attitude.toDCM()\n",
    "los = DCM@array([0,0,1])\n",
    "print(los)\n",
    "pos = state.position\n",
    "TOL = 100000\n",
    "OFFNADIR_THRESH = deg2rad(10)\n",
    "unity_pos = pos/norm(pos)\n",
    "offnadir = arccos(dot(unity_pos,-los))\n",
    "print(\"NADIR Angle = {}\".format(rad2deg(offnadir)))\n",
    "if offnadir < OFFNADIR_THRESH:\n",
    "\tpass\n",
    "#nabla = dot(los,pos)**2-(np.linalg.norm(pos)**2-r**2)\n",
    "diff = xyzs-pos\n",
    "moon_los = diff/norm(diff,axis=2).reshape(ra_sections,decl_sections,1)\n",
    "#print(-moon_los)\n",
    "nabla = dot(-moon_los,pos)**2-(norm(pos)**2-RADIUS**2)\n",
    "min_dist = abs(-dot(-moon_los,pos)+sqrt(nabla))\n",
    "#print(nabla)\n",
    "#print(min_dist)\n",
    "angles = np.where(min_dist+TOL>=norm(diff,axis=2),np.dot(moon_los,los),-1)\n",
    "blob_target = np.where(angles>fov_bounds,norm(diff,axis=2),-1)\n",
    "#print(angles)\n",
    "plt.imshow(blob_target.T,cmap=\"gray\")"
   ]
  },
  {
   "cell_type": "code",
   "execution_count": 20,
   "metadata": {},
   "outputs": [
    {
     "name": "stdout",
     "output_type": "stream",
     "text": [
      "[ 1.71642041e-01  9.85159383e-01 -9.79098831e-17]\n",
      "80.11669544706328 -5.609823071935808e-15\n"
     ]
    }
   ],
   "source": [
    "# Finding the center of the blob\n",
    "blob_xyzs = np.where(blob_target.reshape(360,180,1)>-1,xyzs,array([0,0,0]))\n",
    "blob_mask = np.array(np.where(norm(blob_xyzs,axis=2)>0))\n",
    "#print(blob_mask.shape)\n",
    "#print(blob_xyzs)\n",
    "#plt.imshow(norm(blob_xyzs,axis=2).T,cmap=\"gray\")\n",
    "#plt.imshow(blob_mask.T,cmap=\"gray\")\n",
    "pts_xyzs = blob_xyzs[blob_mask[0,:],blob_mask[1,:],:]\n",
    "#print(pts_xyzs)\n",
    "if len(pts_xyzs) == 0:\n",
    "\tprint(\"No dice\")\n",
    "else:\n",
    "\tctr_xyz = np.average(pts_xyzs,axis=0)\n",
    "\tctr_los = ctr_xyz/norm(ctr_xyz)\n",
    "\tdecl = arcsin(ctr_los[2])\n",
    "\tif decl > np.pi/2:\n",
    "\t\tdecl -= np.pi\n",
    "\tra = arccos(ctr_los[0]/cos(decl))\n",
    "\tprint(ctr_los)\n",
    "\tprint(rad2deg(ra),rad2deg(decl))"
   ]
  },
  {
   "cell_type": "code",
   "execution_count": 21,
   "metadata": {},
   "outputs": [],
   "source": [
    "def get_coverage(pos,los,moon_xyzs,fov):\n",
    "\tshape = array(moon_xyzs.shape)\n",
    "\tshape[2] = 1\n",
    "\tdiff = moon_xyzs-pos\n",
    "\tfov_bounds = cos(fov/2)\n",
    "\tmax_dist = sqrt(norm(pos)**2+RADIUS**2)\n",
    "\tmoon_los = diff/norm(diff,axis=2).reshape(shape)\n",
    "\tangles = np.where(norm(diff,axis=2)<=max_dist,np.dot(moon_los,los),-1)\n",
    "\tblob = np.where(angles>fov_bounds,norm(diff,axis=2),-1)\n",
    "\tplt.figure()\n",
    "\tplt.imshow(blob.T,cmap=\"gray\")\n",
    "\treturn blob"
   ]
  },
  {
   "cell_type": "code",
   "execution_count": 22,
   "metadata": {},
   "outputs": [
    {
     "name": "stdout",
     "output_type": "stream",
     "text": [
      "398\n",
      "386\n",
      "76\n",
      "0\n",
      "[[-9.85159383e-01 -1.38777878e-17 -1.71642041e-01]\n",
      " [ 1.71642041e-01 -5.55111512e-17 -9.85159383e-01]\n",
      " [ 0.00000000e+00 -1.00000000e+00 -1.66533454e-16]]\n",
      "0.060911035859308196 [ 0.06091104  0.70447842 -0.70447842]\n",
      "[ 2.77555756e-17 -4.08405397e-17  1.00000000e+00]\n",
      "[-1.71642041e-01 -9.85159383e-01 -1.66533454e-16]\n",
      "[-1.71642041e-01 -9.85159383e-01  9.79098831e-17]\n"
     ]
    },
    {
     "data": {
      "image/png": "[encoded data removed]",
      "text/plain": [
       "<Figure size 640x480 with 1 Axes>"
      ]
     },
     "metadata": {},
     "output_type": "display_data"
    },
    {
     "data": {
      "image/png": "[encoded data removed]",
      "text/plain": [
       "<Figure size 640x480 with 1 Axes>"
      ]
     },
     "metadata": {},
     "output_type": "display_data"
    },
    {
     "data": {
      "image/png": "[encoded data removed]",
      "text/plain": [
       "<Figure size 640x480 with 1 Axes>"
      ]
     },
     "metadata": {},
     "output_type": "display_data"
    },
    {
     "data": {
      "image/png": "[encoded data removed]",
      "text/plain": [
       "<Figure size 640x480 with 1 Axes>"
      ]
     },
     "metadata": {},
     "output_type": "display_data"
    },
    {
     "data": {
      "image/png": "[encoded data removed]",
      "text/plain": [
       "<Figure size 640x480 with 1 Axes>"
      ]
     },
     "metadata": {},
     "output_type": "display_data"
    }
   ],
   "source": [
    "# Finding the furthest extremities\n",
    "pos2 = ctr_los*RADIUS*1.2\n",
    "los2 = -ctr_los\n",
    "blob = get_coverage(pos2,los2,xyzs,max_fov)\n",
    "cont = len(np.where(blob_target>blob)[0])\n",
    "while cont > 0:\n",
    "\tpos2*=1.2\n",
    "\tblob = get_coverage(pos2,los2,xyzs,max_fov)\n",
    "\tcont = len(np.where(blob_target>blob)[0])\n",
    "\tprint(cont)\n",
    "global_z = los2\n",
    "global_x = array([-sin(ra),cos(ra),0])\n",
    "global_y = rot_about(global_z,global_x,pi/2)\n",
    "local_z = array([0,0,1])\n",
    "local_x = array([1,0,0])\n",
    "local_y = array([0,-1,0])\n",
    "dcm = mu.wahbas_problem(array([global_z,global_x,global_y]),\n",
    "\t\t\t\t\t\t\t\t\t\t\tarray([local_z,local_x,local_y]))\n",
    "print(dcm)\n",
    "quat = Quaternion()\n",
    "quat.fromDCM(dcm)\n",
    "#print(quat)\n",
    "print(dcm.T@global_z)\n",
    "print(dcm@array([0,0,1]))\n",
    "print(global_z)"
   ]
  }
 ],
 "metadata": {
  "kernelspec": {
   "display_name": ".venv",
   "language": "python",
   "name": "python3"
  },
  "language_info": {
   "codemirror_mode": {
    "name": "ipython",
    "version": 3
   },
   "file_extension": ".py",
   "mimetype": "text/x-python",
   "name": "python",
   "nbconvert_exporter": "python",
   "pygments_lexer": "ipython3",
   "version": "3.10.12"
  }
 },
 "nbformat": 4,
 "nbformat_minor": 2
}
