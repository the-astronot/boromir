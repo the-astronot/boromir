{
 "cells": [
  {
   "cell_type": "markdown",
   "metadata": {},
   "source": [
    "# Notebook for Testing Quaternion Conversions"
   ]
  },
  {
   "cell_type": "code",
   "execution_count": 1,
   "metadata": {},
   "outputs": [],
   "source": [
    "# Library imports\n",
    "import numpy as np\n",
    "import sys\n",
    "from os.path import basename,dirname,abspath,join\n",
    "SRC_DIR = join(dirname(abspath('')),\"src\")\n",
    "sys.path.append(SRC_DIR)\n",
    "\n",
    "# Local imports\n",
    "from Structures import Quaternion,State"
   ]
  },
  {
   "cell_type": "code",
   "execution_count": 21,
   "metadata": {},
   "outputs": [
    {
     "name": "stdout",
     "output_type": "stream",
     "text": [
      "[ 0.72102797  0.14623454 -0.67570243  0.04647955]\n"
     ]
    }
   ],
   "source": [
    "# DCM to Quaternion\n",
    "in_dcm = input(\"Enter DCM: \")\n",
    "dcm = in_dcm.replace(\"[\",\"\").replace(\"]\",\"\").strip().replace(\",\",\" \").replace(\"  \",\" \").replace(\"  \",\" \").replace(\"  \",\" \")\n",
    "dcm = np.array(dcm.split(\" \"),dtype=float).reshape((3,3))\n",
    "dcm2quat = Quaternion()\n",
    "dcm2quat.fromDCM(dcm)\n",
    "print(dcm2quat.toArray())"
   ]
  },
  {
   "cell_type": "code",
   "execution_count": 18,
   "metadata": {},
   "outputs": [
    {
     "name": "stdout",
     "output_type": "stream",
     "text": [
      "['0.72227662', '0.1399369', '-0.67527112', '0.05237432']\n",
      "[[ 0.08253175 -0.11333319  0.99012327]\n",
      " [-0.26464818  0.95534918  0.13141257]\n",
      " [-0.96080687 -0.27288002  0.04885322]]\n"
     ]
    }
   ],
   "source": [
    "# Quaternion to DCM\n",
    "in_quat = input(\"Enter quaternion: \")\n",
    "in_quat = in_quat.replace(\"[\",\"\").replace(\"]\",\"\").replace(\"  \",\" \").replace(\"  \",\" \").replace(\" \",\",\").strip(\",\").split(\",\")\n",
    "print(in_quat)\n",
    "quat = Quaternion(s=in_quat[0],v=in_quat[1:4])\n",
    "q2dcm = quat.toDCM()\n",
    "print(q2dcm)"
   ]
  },
  {
   "cell_type": "code",
   "execution_count": 19,
   "metadata": {},
   "outputs": [],
   "source": [
    "def RotZ(angle):\n",
    "\treturn np.array([[np.cos(angle),-np.sin(angle),0],\n",
    "\t\t\t\t\t\t\t\t\t[np.sin(angle),np.cos(angle),0],\n",
    "\t\t\t\t\t\t\t\t\t[0,0,1]])\n",
    "\n",
    "def RotY(angle):\n",
    "\treturn np.array([[np.cos(angle),0,np.sin(angle)],\n",
    "\t\t\t\t\t\t\t\t\t[0,1,0],\n",
    "\t\t\t\t\t\t\t\t\t[-np.sin(angle),0,np.cos(angle)]])\n",
    "\n",
    "def RotX(angle):\n",
    "\treturn np.array([[1,0,0],\n",
    "\t\t\t\t\t\t\t\t\t[0,np.cos(angle),-np.sin(angle)],\n",
    "\t\t\t\t\t\t\t\t\t[0,np.sin(angle),np.cos(angle)]])\n",
    "\n",
    "Rz = RotZ(np.deg2rad(-5))\n",
    "Ry = RotY(np.deg2rad(5))\n",
    "Rx = RotX(np.deg2rad(-1))"
   ]
  },
  {
   "cell_type": "code",
   "execution_count": 20,
   "metadata": {},
   "outputs": [
    {
     "name": "stdout",
     "output_type": "stream",
     "text": [
      "[[ 0.08253175 -0.13059596  0.98799453]\n",
      " [-0.26464818  0.95291021  0.1480657 ]\n",
      " [-0.96080687 -0.27369107  0.04408337]]\n"
     ]
    }
   ],
   "source": [
    "print(q2dcm@Rx)"
   ]
  },
  {
   "cell_type": "code",
   "execution_count": null,
   "metadata": {},
   "outputs": [],
   "source": [
    "# Initial Quaternion\n",
    "# [ 0.7238737   0.1103488  -0.68073237  0.02081921]\n",
    "\n",
    "# Revised Quaternion\n",
    "# [ 0.72227662  0.1399369  -0.67527112  0.05237432]\n",
    "\n",
    "# + RotX -1\n",
    "# [ 0.72102797  0.14623454 -0.67570243  0.04647955]"
   ]
  }
 ],
 "metadata": {
  "kernelspec": {
   "display_name": ".venv",
   "language": "python",
   "name": "python3"
  },
  "language_info": {
   "codemirror_mode": {
    "name": "ipython",
    "version": 3
   },
   "file_extension": ".py",
   "mimetype": "text/x-python",
   "name": "python",
   "nbconvert_exporter": "python",
   "pygments_lexer": "ipython3",
   "version": "3.10.12"
  }
 },
 "nbformat": 4,
 "nbformat_minor": 2
}
