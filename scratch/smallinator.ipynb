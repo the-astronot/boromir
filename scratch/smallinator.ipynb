{
 "cells": [
  {
   "cell_type": "markdown",
   "metadata": {},
   "source": [
    "# The Image Small-inator\n",
    "\n",
    "Helping me to not work with 8GB images until I REALLY need to"
   ]
  },
  {
   "cell_type": "code",
   "execution_count": 1,
   "metadata": {},
   "outputs": [],
   "source": [
    "# imports\n",
    "import os\n",
    "os.environ[\"OPENCV_IO_MAX_IMAGE_PIXELS\"] = pow(2,40).__str__()\n",
    "import cv2\n",
    "import numpy as np"
   ]
  },
  {
   "cell_type": "code",
   "execution_count": 2,
   "metadata": {},
   "outputs": [
    {
     "data": {
      "text/plain": [
       "True"
      ]
     },
     "execution_count": 2,
     "metadata": {},
     "output_type": "execute_result"
    }
   ],
   "source": [
    "# Resize Image\n",
    "img = cv2.imread(\"../maps/lroc_color_poles.tif\",2)\n",
    "img2 = cv2.resize(img,(2048,1024))\n",
    "cv2.imwrite(\"../maps/small_lroc.tif\",img2)"
   ]
  },
  {
   "cell_type": "code",
   "execution_count": 2,
   "metadata": {},
   "outputs": [
    {
     "data": {
      "text/plain": [
       "True"
      ]
     },
     "execution_count": 2,
     "metadata": {},
     "output_type": "execute_result"
    }
   ],
   "source": [
    "# More smaller-inating\n",
    "indem = cv2.imread(\"../images/smol_dem.tif\",2)\n",
    "inalb = cv2.imread(\"../images/smol_moon.jpg\")\n",
    "\n",
    "outdem = cv2.resize(indem,(64,32))\n",
    "outalb = cv2.resize(inalb,(64,32))\n",
    "\n",
    "cv2.imwrite(\"../images/smoller_dem.tif\",outdem)\n",
    "cv2.imwrite(\"../images/smoller_alb.jpg\",outalb)"
   ]
  }
 ],
 "metadata": {
  "kernelspec": {
   "display_name": ".venv",
   "language": "python",
   "name": "python3"
  },
  "language_info": {
   "codemirror_mode": {
    "name": "ipython",
    "version": 3
   },
   "file_extension": ".py",
   "mimetype": "text/x-python",
   "name": "python",
   "nbconvert_exporter": "python",
   "pygments_lexer": "ipython3",
   "version": "3.10.12"
  }
 },
 "nbformat": 4,
 "nbformat_minor": 2
}
