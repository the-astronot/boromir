{
 "cells": [
  {
   "cell_type": "code",
   "execution_count": 2,
   "metadata": {},
   "outputs": [],
   "source": [
    "import numpy as np\n"
   ]
  },
  {
   "cell_type": "code",
   "execution_count": 3,
   "metadata": {},
   "outputs": [],
   "source": [
    "def calc_sun_angles(init_sun_los,rot_axis,incr,num_steps,incr_start=0,incr_type=\"deg\"):\n",
    "\tsun_los = []\n",
    "\tradians = [\"r\",\"rad\",\"rads\",\"radian\",\"radians\"]\n",
    "\tif incr_type.lower() not in radians:\n",
    "\t\tincr = np.deg2rad(incr)\n",
    "\t\tincr_start = np.deg2rad(incr_start)\n",
    "\tinit_sun_los = normalize(init_sun_los)\n",
    "\tfor i in range(num_steps):\n",
    "\t\tangle = incr_start + incr*i\n",
    "\t\tsun_losi = init_sun_los + np.sin(angle)*np.cross(rot_axis,init_sun_los)+(1-np.cos(angle))*np.cross(rot_axis,np.cross(rot_axis,init_sun_los))\n",
    "\t\tsun_los.append(normalize(sun_losi))\n",
    "\treturn sun_los\n",
    "\n",
    "def normalize(arr):\n",
    "\treturn arr/(np.linalg.norm(arr))"
   ]
  },
  {
   "cell_type": "code",
   "execution_count": 4,
   "metadata": {},
   "outputs": [
    {
     "name": "stdout",
     "output_type": "stream",
     "text": [
      "[\n",
      "[-0.6427876097,0.7660444431,0.0000000000],\n",
      "[-0.6691306064,0.7431448255,0.0000000000],\n",
      "[-0.6946583705,0.7193398003,0.0000000000],\n",
      "[-0.7193398003,0.6946583705,0.0000000000],\n",
      "[-0.7431448255,0.6691306064,0.0000000000],\n",
      "[-0.7660444431,0.6427876097,0.0000000000],\n",
      "[-0.7880107536,0.6156614753,0.0000000000],\n",
      "[-0.8090169944,0.5877852523,0.0000000000],\n",
      "[-0.8290375726,0.5591929035,0.0000000000],\n",
      "[-0.8480480962,0.5299192642,0.0000000000],\n",
      "[-0.8660254038,0.5000000000,0.0000000000],\n",
      "[-0.8829475929,0.4694715628,0.0000000000],\n",
      "[-0.8987940463,0.4383711468,0.0000000000],\n",
      "[-0.9135454576,0.4067366431,0.0000000000],\n",
      "[-0.9271838546,0.3746065934,0.0000000000],\n",
      "[-0.9396926208,0.3420201433,0.0000000000],\n",
      "[-0.9510565163,0.3090169944,0.0000000000],\n",
      "[-0.9612616959,0.2756373558,0.0000000000],\n",
      "[-0.9702957263,0.2419218956,0.0000000000],\n",
      "[-0.9781476007,0.2079116908,0.0000000000],\n",
      "]\n"
     ]
    }
   ],
   "source": [
    "# Using it\n",
    "init_sun_los = np.array([0,1,0])\n",
    "axis_of_rotation = np.array([0,0,1])\n",
    "start_offset = 40 # deg\n",
    "increment = 2 # deg\n",
    "num_steps = 20\n",
    "sun_los = calc_sun_angles(init_sun_los,axis_of_rotation,increment,num_steps,incr_start=start_offset)\n",
    "print(\"[\")\n",
    "for i,los in enumerate(sun_los):\n",
    "\tprint(\"[{:.10f},{:.10f},{:.10f}],\".format(los[0],los[1],los[2]))\n",
    "print(\"]\")"
   ]
  }
 ],
 "metadata": {
  "kernelspec": {
   "display_name": ".venv",
   "language": "python",
   "name": "python3"
  },
  "language_info": {
   "codemirror_mode": {
    "name": "ipython",
    "version": 3
   },
   "file_extension": ".py",
   "mimetype": "text/x-python",
   "name": "python",
   "nbconvert_exporter": "python",
   "pygments_lexer": "ipython3",
   "version": "3.11.10"
  }
 },
 "nbformat": 4,
 "nbformat_minor": 2
}
